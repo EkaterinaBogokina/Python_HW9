{
  "nbformat": 4,
  "nbformat_minor": 0,
  "metadata": {
    "colab": {
      "provenance": [],
      "authorship_tag": "ABX9TyP+DiIleREJxR0+0XIopG4F",
      "include_colab_link": true
    },
    "kernelspec": {
      "name": "python3",
      "display_name": "Python 3"
    },
    "language_info": {
      "name": "python"
    }
  },
  "cells": [
    {
      "cell_type": "markdown",
      "metadata": {
        "id": "view-in-github",
        "colab_type": "text"
      },
      "source": [
        "<a href=\"https://colab.research.google.com/github/EkaterinaBogokina/Python_HW9/blob/main/Seminar9.ipynb\" target=\"_parent\"><img src=\"https://colab.research.google.com/assets/colab-badge.svg\" alt=\"Open In Colab\"/></a>"
      ]
    },
    {
      "cell_type": "code",
      "source": [
        "#Задача 40\n",
        "#Определить среднюю стоимость дома, где кол-во людей от 0 до 500 (population).\n",
        "\n",
        "import pandas as pd\n",
        "\n",
        "df = pd.read_csv('/content/sample_data/california_housing_test.csv') #df -data frame\n",
        "\n",
        "print(df.loc[(df.population < 500), ['median_house_value']].mean())\n"
      ],
      "metadata": {
        "colab": {
          "base_uri": "https://localhost:8080/"
        },
        "id": "jfhevbIINcdE",
        "outputId": "481aab43-800c-40ea-f17f-5f3badbf7827"
      },
      "execution_count": 28,
      "outputs": [
        {
          "output_type": "stream",
          "name": "stdout",
          "text": [
            "median_house_value    189222.811881\n",
            "dtype: float64\n"
          ]
        }
      ]
    },
    {
      "cell_type": "code",
      "source": [
        "#Задача 42: Узнать какая максимальная households в зоне минимального значения population.\n",
        "\n",
        "import pandas as pd\n",
        "\n",
        "df = pd.read_csv('/content/sample_data/california_housing_test.csv') #df -data frame\n",
        "\n",
        "df1 = df.loc[df.population < df.population.quantile(.10)]\n",
        "print(df1.households.max())\n"
      ],
      "metadata": {
        "colab": {
          "base_uri": "https://localhost:8080/"
        },
        "id": "bmEaJjMLNzfo",
        "outputId": "1cb5a0c8-f7e4-4dcc-e1b7-ab9a44dbf734"
      },
      "execution_count": 29,
      "outputs": [
        {
          "output_type": "stream",
          "name": "stdout",
          "text": [
            "342.0\n"
          ]
        }
      ]
    },
    {
      "cell_type": "code",
      "execution_count": null,
      "metadata": {
        "id": "Fw60R4U76rF_"
      },
      "outputs": [],
      "source": [
        "# task59\n",
        "import pandas as pd\n",
        "\n",
        "df = pd.read_csv('/content/sample_data/california_housing_test.csv') #df -data frame\n",
        "\n",
        "\n",
        "\n",
        "# 1. Проверить есть ли в файле пустые значения\n",
        "# 2. Показать median_house_value где median_income < 2\n",
        "# 3. Показать данные в первых 2 столбцах\n",
        "# 4. Выбрать данные где housing_median_age < 20 и\n",
        "# median_house_value > 70000\n",
        "\n",
        "\n",
        "print(df.isnull().sum()) # посдсчитывает кол-во нулевых строк\n",
        "\n",
        "print(df[df['median_income'] < 2][['median_house_value']]) # выводит заданные столбцы по фильтру\n",
        "\n",
        "print(df[['longitude', 'latitude']]) # выводит заданные столбцы на печать\n",
        "\n",
        "df.iloc[ :, 0:2] #выводит первые два столбца на печать\n",
        "\n",
        "print(df[(df.housing_median_age < 20) & (df.median_house_value > 70000)]) # выводит данные по 2 условиям\n",
        "\n",
        "\n"
      ]
    },
    {
      "cell_type": "code",
      "source": [
        "# task61\n",
        "import pandas as pd\n",
        "\n",
        "df = pd.read_csv('/content/sample_data/california_housing_test.csv') #df -data frame\n",
        "\n",
        "# 1. Определить какое максимальное и минимальное\n",
        "# значение median_house_value\n",
        "\n",
        "\n",
        "\n",
        "print(df.median_house_value.max(), df.median_house_value.min()) # мин и макс значение в столбце\n",
        "\n",
        "# 2. Показать максимальное median_house_value, где\n",
        "# median_income = 3.1250\n",
        "print(df.loc[(df.median_income == 3.125), ['median_income', 'median_house_value']].max())\n",
        "\n",
        "# 3. Узнать какая максимальная population в зоне\n",
        "# минимального значения median_house_value\n",
        "\n",
        "df1 = df.loc[df.median_house_value < df.median_house_value.quantile(.25)]\n",
        "print(df1.population.max())\n",
        "\n"
      ],
      "metadata": {
        "id": "5S3jlHtQu50g",
        "colab": {
          "base_uri": "https://localhost:8080/"
        },
        "outputId": "060eb58e-aa7e-431e-b7c5-d10faff58b59"
      },
      "execution_count": 25,
      "outputs": [
        {
          "output_type": "stream",
          "name": "stdout",
          "text": [
            "7235.0\n"
          ]
        }
      ]
    },
    {
      "cell_type": "code",
      "source": [
        "# Task57\n",
        "import pandas as pd\n",
        "\n",
        "df = pd.read_csv('/content/sample_data/california_housing_test.csv') #df -data frame\n",
        "\n",
        "# Посмотреть сколько в нем строк и столбцов\n",
        "# Определить какой тип данных имеют столбцы\n",
        "\n",
        "\n",
        "#print(df.head())\n",
        "\n",
        "# print(df[df['housing_median_age'] < 20][['total_bedrooms', 'total_rooms']])\n",
        "\n",
        "print(df.shape)\n",
        "print(df.dtypes)"
      ],
      "metadata": {
        "id": "SW0ihDTyoamg"
      },
      "execution_count": null,
      "outputs": []
    }
  ]
}